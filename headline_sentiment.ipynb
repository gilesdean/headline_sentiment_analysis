{
  "nbformat": 4,
  "nbformat_minor": 0,
  "metadata": {
    "colab": {
      "name": "headline_sentiment.ipynb",
      "provenance": [],
      "collapsed_sections": []
    },
    "kernelspec": {
      "name": "python3",
      "display_name": "Python 3"
    }
  },
  "cells": [
    {
      "cell_type": "markdown",
      "metadata": {
        "id": "8Q2Y7BXyIPsQ"
      },
      "source": [
        "Project to perform sentiment analysis on the main headline of the BBC homepage. \n",
        "\n",
        "First need to scrape the headline and then pass through NLTK Vader. "
      ]
    },
    {
      "cell_type": "code",
      "metadata": {
        "id": "Q1-rog-EIJCE"
      },
      "source": [
        "#import libraries\n",
        "\n",
        "import requests\n",
        "import urllib.request\n",
        "from requests import get\n",
        "from bs4 import BeautifulSoup\n",
        "import pandas as pd\n",
        "import numpy as np\n",
        "import matplotlib.pyplot as plt \n",
        "\n",
        "\n",
        "from time import sleep\n",
        "from random import randint"
      ],
      "execution_count": null,
      "outputs": []
    },
    {
      "cell_type": "code",
      "metadata": {
        "id": "0v5zcKxuIj2F"
      },
      "source": [
        "#Create a list containing a string that is the headline of the website\n",
        "\n",
        "url = 'https://www.theguardian.com/world'\n",
        "page = urllib.request.urlopen(url)\n",
        "soup = BeautifulSoup(page, 'lxml')\n",
        "right_text = soup.find('a', class_=\"u-faux-block-link__overlay js-headline-text\")\n",
        "\n",
        "this_list = []"
      ],
      "execution_count": null,
      "outputs": []
    },
    {
      "cell_type": "code",
      "metadata": {
        "id": "UNkJ9JcjvK6-",
        "colab": {
          "base_uri": "https://localhost:8080/",
          "height": 35
        },
        "outputId": "b440ef20-d45f-4729-aa08-ea9c898b5d25"
      },
      "source": [
        "right_text.text"
      ],
      "execution_count": null,
      "outputs": [
        {
          "output_type": "execute_result",
          "data": {
            "application/vnd.google.colaboratory.intrinsic+json": {
              "type": "string"
            },
            "text/plain": [
              "\"UK's daily Covid deaths rise by 367 to highest total since May\""
            ]
          },
          "metadata": {
            "tags": []
          },
          "execution_count": 127
        }
      ]
    },
    {
      "cell_type": "code",
      "metadata": {
        "id": "YYDt4QsLrsip"
      },
      "source": [
        "this_list.append(right_text.text)"
      ],
      "execution_count": null,
      "outputs": []
    },
    {
      "cell_type": "code",
      "metadata": {
        "id": "DbtWsPYwKOCu",
        "colab": {
          "base_uri": "https://localhost:8080/",
          "height": 34
        },
        "outputId": "46468850-2d53-459b-a253-06229d01d4e6"
      },
      "source": [
        "#Confirmation of the correct title\n",
        "\n",
        "this_list"
      ],
      "execution_count": null,
      "outputs": [
        {
          "output_type": "execute_result",
          "data": {
            "text/plain": [
              "[\"UK's daily Covid deaths rise by 367 to highest total since May\"]"
            ]
          },
          "metadata": {
            "tags": []
          },
          "execution_count": 129
        }
      ]
    },
    {
      "cell_type": "code",
      "metadata": {
        "id": "Opp5kxdZKyaQ",
        "colab": {
          "base_uri": "https://localhost:8080/",
          "height": 51
        },
        "outputId": "301e1a6f-677c-479a-d934-3a46998e3fcd"
      },
      "source": [
        "#Import vader\n",
        "\n",
        "import nltk\n",
        "nltk.download('vader_lexicon')\n",
        "\n",
        "from nltk.sentiment.vader import SentimentIntensityAnalyzer\n",
        "\n",
        "sid = SentimentIntensityAnalyzer()"
      ],
      "execution_count": null,
      "outputs": [
        {
          "output_type": "stream",
          "text": [
            "[nltk_data] Downloading package vader_lexicon to /root/nltk_data...\n",
            "[nltk_data]   Package vader_lexicon is already up-to-date!\n"
          ],
          "name": "stdout"
        }
      ]
    },
    {
      "cell_type": "code",
      "metadata": {
        "id": "iSZRKfrvN26A"
      },
      "source": [
        "this_string = str(this_list)"
      ],
      "execution_count": null,
      "outputs": []
    },
    {
      "cell_type": "code",
      "metadata": {
        "id": "3aXeP0nTMdvC",
        "colab": {
          "base_uri": "https://localhost:8080/",
          "height": 34
        },
        "outputId": "48dbe8ad-65a7-454e-871f-6c3d9f49423d"
      },
      "source": [
        "#Obtain sentiment score\n",
        "\n",
        "sid.polarity_scores(this_string)"
      ],
      "execution_count": null,
      "outputs": [
        {
          "output_type": "execute_result",
          "data": {
            "text/plain": [
              "{'compound': 0.0, 'neg': 0.0, 'neu': 1.0, 'pos': 0.0}"
            ]
          },
          "metadata": {
            "tags": []
          },
          "execution_count": 132
        }
      ]
    },
    {
      "cell_type": "code",
      "metadata": {
        "id": "CYnZEek_MwR2",
        "colab": {
          "base_uri": "https://localhost:8080/",
          "height": 34
        },
        "outputId": "85ce0385-8705-49a5-bb81-d6ed5cd7cf11"
      },
      "source": [
        "#Obtain the compound score\n",
        "\n",
        "sid.polarity_scores(this_string)['compound']"
      ],
      "execution_count": null,
      "outputs": [
        {
          "output_type": "execute_result",
          "data": {
            "text/plain": [
              "0.0"
            ]
          },
          "metadata": {
            "tags": []
          },
          "execution_count": 133
        }
      ]
    },
    {
      "cell_type": "code",
      "metadata": {
        "id": "Ry64hIQsM-lf"
      },
      "source": [
        "#Save as a variable for later\n",
        "\n",
        "guardian_world = sid.polarity_scores(this_string)['compound']"
      ],
      "execution_count": null,
      "outputs": []
    },
    {
      "cell_type": "markdown",
      "metadata": {
        "id": "SE3ADnOrv8qg"
      },
      "source": [
        "## Now to run the same for the BBC World page"
      ]
    },
    {
      "cell_type": "code",
      "metadata": {
        "id": "cWmWvYczv3I6"
      },
      "source": [
        "url = 'https://www.bbc.co.uk/news/world'\n",
        "page = urllib.request.urlopen(url)\n",
        "soup = BeautifulSoup(page, 'lxml')\n",
        "right_text = soup.find('h3', class_=\"gs-c-promo-heading__title gel-paragon-bold gs-u-mt+ nw-o-link-split__text\")\n",
        "\n",
        "bbc_list = []\n",
        "\n",
        "bbc_list.append(right_text.text)\n",
        "\n",
        "sid = SentimentIntensityAnalyzer()\n",
        "\n",
        "bbc_string = str(bbc_list)\n",
        "\n",
        "bbc_world = sid.polarity_scores(bbc_string)['compound']"
      ],
      "execution_count": null,
      "outputs": []
    },
    {
      "cell_type": "code",
      "metadata": {
        "id": "c-KEtKLpw5_J",
        "colab": {
          "base_uri": "https://localhost:8080/",
          "height": 34
        },
        "outputId": "db38ee4b-8086-4c98-8f52-0403a09a0130"
      },
      "source": [
        "bbc_world"
      ],
      "execution_count": null,
      "outputs": [
        {
          "output_type": "execute_result",
          "data": {
            "text/plain": [
              "0.0"
            ]
          },
          "metadata": {
            "tags": []
          },
          "execution_count": 136
        }
      ]
    },
    {
      "cell_type": "markdown",
      "metadata": {
        "id": "LYih_nHexzLA"
      },
      "source": [
        "## The Times Home Page"
      ]
    },
    {
      "cell_type": "code",
      "metadata": {
        "id": "NF1lNXAUxbFd"
      },
      "source": [
        "url = 'https://www.thetimes.co.uk/'\n",
        "page = urllib.request.urlopen(url)\n",
        "soup = BeautifulSoup(page, 'lxml')\n",
        "right_text = soup.find('h3', class_=\"Item-headline Headline--xl\")\n",
        "\n",
        "times_list = []\n",
        "\n",
        "times_list.append(right_text.text)\n",
        "\n",
        "sid = SentimentIntensityAnalyzer()\n",
        "\n",
        "times_string = str(times_list)\n",
        "\n",
        "times = sid.polarity_scores(times_string)['compound']"
      ],
      "execution_count": null,
      "outputs": []
    },
    {
      "cell_type": "markdown",
      "metadata": {
        "id": "Z0mkabRByxCE"
      },
      "source": [
        "## Visualise the Data"
      ]
    },
    {
      "cell_type": "code",
      "metadata": {
        "id": "q7EFVT08yX1O",
        "colab": {
          "base_uri": "https://localhost:8080/",
          "height": 142
        },
        "outputId": "5ad96e99-b7ce-40d0-9a1d-833a51524f74"
      },
      "source": [
        "list = [guardian_world, bbc_world, times]\n",
        "\n",
        "df = pd.DataFrame(list)\n",
        "\n",
        "df.reset_index()\n",
        "\n",
        "#df.rename(columns={\"0\": \"compound_scores\"}, inplace=True)\n",
        "df.rename(index={0: \"Guardian\", 1: \"BBC\", 2: \"Times\"}, inplace=True)\n",
        "df"
      ],
      "execution_count": null,
      "outputs": [
        {
          "output_type": "execute_result",
          "data": {
            "text/html": [
              "<div>\n",
              "<style scoped>\n",
              "    .dataframe tbody tr th:only-of-type {\n",
              "        vertical-align: middle;\n",
              "    }\n",
              "\n",
              "    .dataframe tbody tr th {\n",
              "        vertical-align: top;\n",
              "    }\n",
              "\n",
              "    .dataframe thead th {\n",
              "        text-align: right;\n",
              "    }\n",
              "</style>\n",
              "<table border=\"1\" class=\"dataframe\">\n",
              "  <thead>\n",
              "    <tr style=\"text-align: right;\">\n",
              "      <th></th>\n",
              "      <th>0</th>\n",
              "    </tr>\n",
              "  </thead>\n",
              "  <tbody>\n",
              "    <tr>\n",
              "      <th>Guardian</th>\n",
              "      <td>0.0</td>\n",
              "    </tr>\n",
              "    <tr>\n",
              "      <th>BBC</th>\n",
              "      <td>0.0</td>\n",
              "    </tr>\n",
              "    <tr>\n",
              "      <th>Times</th>\n",
              "      <td>0.0</td>\n",
              "    </tr>\n",
              "  </tbody>\n",
              "</table>\n",
              "</div>"
            ],
            "text/plain": [
              "            0\n",
              "Guardian  0.0\n",
              "BBC       0.0\n",
              "Times     0.0"
            ]
          },
          "metadata": {
            "tags": []
          },
          "execution_count": 138
        }
      ]
    },
    {
      "cell_type": "code",
      "metadata": {
        "id": "1JaeqGMfyZyj",
        "colab": {
          "base_uri": "https://localhost:8080/",
          "height": 348
        },
        "outputId": "74abf3c7-74ae-4623-e72c-0c17804385c5"
      },
      "source": [
        "ax = df.plot.bar(title='Compound scores for publications', legend=False)\n",
        "ax.set(xlabel=\"Publications\", ylabel=\"Compound score\")"
      ],
      "execution_count": null,
      "outputs": [
        {
          "output_type": "execute_result",
          "data": {
            "text/plain": [
              "[Text(0, 0.5, 'Compound score'), Text(0.5, 0, 'Publications')]"
            ]
          },
          "metadata": {
            "tags": []
          },
          "execution_count": 139
        },
        {
          "output_type": "display_data",
          "data": {
            "image/png": "[encoded data removed]",
            "text/plain": [
              "<Figure size 432x288 with 1 Axes>"
            ]
          },
          "metadata": {
            "tags": [],
            "needs_background": "light"
          }
        }
      ]
    },
    {
      "cell_type": "markdown",
      "metadata": {
        "id": "LtnBsO_n5VLt"
      },
      "source": [
        "## Average of all 3 scores\n",
        "\n",
        "This provides the average score of the 3 publications and an indication of the sentiment of news at this current moment. \n",
        "\n",
        "Note that this will change as soon as at least one of the publications change their headlines. Also headlines are very short and often provide very little information for the Vader library to interpret. "
      ]
    },
    {
      "cell_type": "code",
      "metadata": {
        "id": "GXw9Jcth2Y1S",
        "colab": {
          "base_uri": "https://localhost:8080/",
          "height": 51
        },
        "outputId": "8d997c58-4fe0-48aa-8c80-7b56010c8911"
      },
      "source": [
        "df.mean()\n",
        "\n"
      ],
      "execution_count": null,
      "outputs": [
        {
          "output_type": "execute_result",
          "data": {
            "text/plain": [
              "0    0.0\n",
              "dtype: float64"
            ]
          },
          "metadata": {
            "tags": []
          },
          "execution_count": 140
        }
      ]
    },
    {
      "cell_type": "code",
      "metadata": {
        "id": "lR8rKdIj21Ts"
      },
      "source": [
        ""
      ],
      "execution_count": null,
      "outputs": []
    },
    {
      "cell_type": "code",
      "metadata": {
        "id": "MX9tSORTZYcK"
      },
      "source": [
        ""
      ],
      "execution_count": null,
      "outputs": []
    },
    {
      "cell_type": "code",
      "metadata": {
        "id": "YWkWgSQpZbOG"
      },
      "source": [
        ""
      ],
      "execution_count": null,
      "outputs": []
    },
    {
      "cell_type": "code",
      "metadata": {
        "id": "ZxVyJu95Zeqm"
      },
      "source": [
        ""
      ],
      "execution_count": null,
      "outputs": []
    }
  ]
}